{
 "cells": [
  {
   "cell_type": "code",
   "execution_count": 1,
   "metadata": {
    "collapsed": true
   },
   "outputs": [],
   "source": [
    "#Lince Rumainum\n",
    "#ISE5123\n",
    "#HW-3\n",
    "\n",
    "#Problem 1"
   ]
  },
  {
   "cell_type": "markdown",
   "metadata": {},
   "source": [
    "  \\begin{align}\n",
    "&\\min  c_{i,j} * x_{i,j}\\nonumber \\\\\n",
    "\\mbox{s.t. }&\\\\ \n",
    "& \\sum\\ x_{i,j}\\leq demand_j \\nonumber \\\\\n",
    "& \\sum\\ x_{i,j}\\leq supply_j \\nonumber \\\\\n",
    "&\\quad c_{i,j}\\geq 0 \\quad x_{i,j}\\geq 0\\nonumber\\\\\n",
    "&\\ i = [A, B] \\nonumber \\\\\n",
    "&\\ j = [1,2,3,4,5] \\nonumber \\\\\n",
    "\\end{align}"
   ]
  },
  {
   "cell_type": "code",
   "execution_count": 2,
   "metadata": {
    "collapsed": true
   },
   "outputs": [],
   "source": [
    "#coefficients and parameters\n",
    "#using lists to store number of retailers and dictionaries to store\n",
    "#warehouse capacity, cost information, and retailer's demand\n",
    "warehouses = [\"A\" , \"B\"]\n",
    "retailers = [\"retailer1\", \"retailer2\", \"retailer3\", \"retailer4\", \"retailer5\"]\n",
    "supply = {\"A\": 2000, \"B\":3000}\n",
    "demand = {\"retailer1\": 500, \"retailer2\": 800, \"retailer3\": 1800,\n",
    "          \"retailer4\": 300, \"retailer5\": 700}\n",
    "cost = {\n",
    "  (\"A\", \"retailer1\"):   2,\n",
    "  (\"A\", \"retailer2\"):   4, \n",
    "  (\"A\", \"retailer3\"):   5,\n",
    "  (\"A\", \"retailer4\"):   2, \n",
    "  (\"A\", \"retailer5\"):   1,\n",
    "  (\"B\", \"retailer1\"):   3,\n",
    "  (\"B\", \"retailer2\"):   1, \n",
    "  (\"B\", \"retailer3\"):   3,\n",
    "  (\"B\", \"retailer4\"):   2, \n",
    "  (\"B\", \"retailer5\"):   3\n",
    "}  "
   ]
  },
  {
   "cell_type": "code",
   "execution_count": 3,
   "metadata": {},
   "outputs": [
    {
     "name": "stdout",
     "output_type": "stream",
     "text": [
      "Using license file C:\\Users\\Lince\\gurobi.lic\n",
      "Academic license - for non-commercial use only\n"
     ]
    }
   ],
   "source": [
    "#Decision variables\n",
    "from gurobipy import * \n",
    "model = Model(\"WarehousesToRetailers-Network\")\n",
    "\n",
    "X={} # number of products\n",
    "\n",
    "for i in warehouses: \n",
    "    for j in retailers:\n",
    "        X[i,j] = model.addVar(vtype=GRB.INTEGER,lb=0,ub=GRB.INFINITY)\n",
    "\n",
    "model.modelSense = GRB.MINIMIZE                  \n",
    "model.update()"
   ]
  },
  {
   "cell_type": "code",
   "execution_count": 4,
   "metadata": {},
   "outputs": [
    {
     "name": "stdout",
     "output_type": "stream",
     "text": [
      "Gurobi Optimizer version 9.0.1 build v9.0.1rc0 (win64)\n",
      "Optimize a model with 0 rows, 10 columns and 0 nonzeros\n",
      "Model fingerprint: 0x2645398d\n",
      "Variable types: 0 continuous, 10 integer (0 binary)\n",
      "Coefficient statistics:\n",
      "  Matrix range     [0e+00, 0e+00]\n",
      "  Objective range  [0e+00, 0e+00]\n",
      "  Bounds range     [0e+00, 0e+00]\n",
      "  RHS range        [0e+00, 0e+00]\n",
      "Found heuristic solution: objective 0.0000000\n",
      "\n",
      "Explored 0 nodes (0 simplex iterations) in 0.04 seconds\n",
      "Thread count was 1 (of 8 available processors)\n",
      "\n",
      "Solution count 1: 0 \n",
      "\n",
      "Optimal solution found (tolerance 1.00e-04)\n",
      "Best objective 0.000000000000e+00, best bound 0.000000000000e+00, gap 0.0000%\n"
     ]
    }
   ],
   "source": [
    "model.optimize()"
   ]
  },
  {
   "cell_type": "code",
   "execution_count": 5,
   "metadata": {},
   "outputs": [
    {
     "name": "stdout",
     "output_type": "stream",
     "text": [
      "The optimal value: 0.0\n",
      "Number of products from warehouse to retailers: \n",
      "From Warehouse A to retailer1 is -0.0\n",
      "From Warehouse A to retailer2 is -0.0\n",
      "From Warehouse A to retailer3 is -0.0\n",
      "From Warehouse A to retailer4 is -0.0\n",
      "From Warehouse A to retailer5 is -0.0\n",
      "From Warehouse B to retailer1 is -0.0\n",
      "From Warehouse B to retailer2 is -0.0\n",
      "From Warehouse B to retailer3 is -0.0\n",
      "From Warehouse B to retailer4 is -0.0\n",
      "From Warehouse B to retailer5 is -0.0\n"
     ]
    }
   ],
   "source": [
    "#Print outputs\n",
    "if model.status==GRB.OPTIMAL:\n",
    "    print (\"The optimal value:\", model.objVal)\n",
    "    print (\"Number of products from warehouse to retailers: \")\n",
    "    for i in warehouses: \n",
    "        for j in retailers:\n",
    "            print (\"From Warehouse\", i, \"to\", j, \"is\", X[i,j].x)"
   ]
  },
  {
   "cell_type": "code",
   "execution_count": 6,
   "metadata": {
    "collapsed": true
   },
   "outputs": [],
   "source": [
    "#Problem 2"
   ]
  },
  {
   "cell_type": "markdown",
   "metadata": {},
   "source": [
    "  \\begin{align}\n",
    "&\\min  c_{i} * x_{i}\\nonumber \\\\\n",
    "\\mbox{s.t. }&\\\\ \n",
    "& \\sum\\ (pT_i * x_{i}) = 35 \\nonumber \\\\\n",
    "& \\sum\\ (pZ_i * x_{i}) = 35 \\nonumber \\\\\n",
    "& \\sum\\ (pL_i * x_{i}) = 30 \\nonumber \\\\\n",
    "& \\sum\\ x_{i} = 1 \\nonumber \\\\\n",
    "&\\quad c_{i}\\geq 0 \\quad x_{i}\\geq 0\\nonumber\\\\\n",
    "&\\ i = [1,2,3,4,5] \\nonumber \\\\\n",
    "\\end{align}"
   ]
  },
  {
   "cell_type": "code",
   "execution_count": 7,
   "metadata": {
    "collapsed": true
   },
   "outputs": [],
   "source": [
    "#coefficients and parameters\n",
    "properties = [\"tin\" , \"zinc\", \"lead\"]\n",
    "alloys = [\"alloy1\", \"alloy2\", \"alloy3\", \"alloy4\", \"alloy5\"]\n",
    "#percentage of each property to make new alloy\n",
    "newAlloyProp = {\"tin\": 35, \"zinc\":35, \"lead\":30} \n",
    "cost = {\"alloy1\": 22, \"alloy2\": 26, \"alloy3\": 25,\n",
    "          \"alloy4\": 21, \"alloy5\": 27} # ($/lb)\n",
    "propAlloyTin = {\n",
    "  (\"alloy1\") :   60,\n",
    "  (\"alloy2\") :   25, \n",
    "  (\"alloy3\") :   45,\n",
    "  (\"alloy4\") :   30, \n",
    "  (\"alloy5\") :   50}\n",
    "propAlloyZinc = {\n",
    "  (\"alloy1\"):   20,\n",
    "  (\"alloy2\"):   15, \n",
    "  (\"alloy3\"):   45,\n",
    "  (\"alloy4\"):   40, \n",
    "  (\"alloy5\"):   40}\n",
    "propAlloyLead = {\n",
    "  (\"alloy1\"):   20,\n",
    "  (\"alloy2\"):   60, \n",
    "  (\"alloy3\"):   10,\n",
    "  (\"alloy4\"):   30, \n",
    "  (\"alloy5\"):   10\n",
    "}  #Percentage of each properties in each alloy"
   ]
  },
  {
   "cell_type": "code",
   "execution_count": 8,
   "metadata": {
    "collapsed": true
   },
   "outputs": [],
   "source": [
    "#Decision variables\n",
    "from gurobipy import * \n",
    "model = Model(\"AlloyBlend\")\n",
    "\n",
    "X={} # weight of alloy used\n",
    "\n",
    "for i in alloys: \n",
    "    X[i] = model.addVar(vtype=GRB.CONTINUOUS,lb=0,ub=GRB.INFINITY)\n",
    "\n",
    "model.modelSense = GRB.MINIMIZE                  \n",
    "model.update()"
   ]
  },
  {
   "cell_type": "code",
   "execution_count": 9,
   "metadata": {
    "collapsed": true
   },
   "outputs": [],
   "source": [
    "#Constraints\n",
    "\n",
    "#blend\n",
    "model.addConstr(quicksum(propAlloyTin[i] * X[i] for i in alloys) == newAlloyProp['tin'])\n",
    "model.addConstr(quicksum(propAlloyZinc[i] * X[i] for i in alloys) == newAlloyProp['zinc'])   \n",
    "model.addConstr(quicksum(propAlloyLead[i] * X[i] for i in alloys) == newAlloyProp['lead'])   \n",
    "\n",
    "#sum of all alloys    \n",
    "model.addConstr(quicksum(X[i] for i in alloys) == 1 )\n",
    "                \n",
    "#non-negativity\n",
    "for i in alloys:\n",
    "    model.addConstr(X[i] >= 0) \n",
    "\n",
    "#objective function        \n",
    "# The sum of cost of alloy * weight of alloy\n",
    "# Sum (c(i) * x(i)) where i = {alloy1, alloy2, alloy3, alloy4, alloy5}\n",
    "objective = quicksum(cost[i]*X[i] for i in alloys)\n",
    " \n",
    "model.setObjective(objective)"
   ]
  },
  {
   "cell_type": "code",
   "execution_count": 10,
   "metadata": {},
   "outputs": [
    {
     "name": "stdout",
     "output_type": "stream",
     "text": [
      "Gurobi Optimizer version 9.0.1 build v9.0.1rc0 (win64)\n",
      "Optimize a model with 9 rows, 5 columns and 25 nonzeros\n",
      "Model fingerprint: 0x6d665d8c\n",
      "Coefficient statistics:\n",
      "  Matrix range     [1e+00, 6e+01]\n",
      "  Objective range  [2e+01, 3e+01]\n",
      "  Bounds range     [0e+00, 0e+00]\n",
      "  RHS range        [1e+00, 4e+01]\n",
      "Presolve removed 6 rows and 0 columns\n",
      "Presolve time: 0.04s\n",
      "Presolved: 3 rows, 5 columns, 15 nonzeros\n",
      "\n",
      "Iteration    Objective       Primal Inf.    Dual Inf.      Time\n",
      "       0    1.2833333e+01   5.208333e+00   0.000000e+00      0s\n",
      "       3    2.1470588e+01   0.000000e+00   0.000000e+00      0s\n",
      "\n",
      "Solved in 3 iterations and 0.06 seconds\n",
      "Optimal objective  2.147058824e+01\n"
     ]
    }
   ],
   "source": [
    "model.optimize()"
   ]
  },
  {
   "cell_type": "code",
   "execution_count": 11,
   "metadata": {},
   "outputs": [
    {
     "name": "stdout",
     "output_type": "stream",
     "text": [
      "The minimum cost of the new alloy: 21.470588235294116\n",
      "Weigh of each alloy: \n",
      "alloy1 's weight needed (in lbs) is 0.176\n",
      "alloy2 's weight needed (in lbs) is 0.059\n",
      "alloy3 's weight needed (in lbs) is 0.0\n",
      "alloy4 's weight needed (in lbs) is 0.765\n",
      "alloy5 's weight needed (in lbs) is 0.0\n"
     ]
    }
   ],
   "source": [
    "#Print outputs\n",
    "if model.status==GRB.OPTIMAL:\n",
    "    print (\"The minimum cost of the new alloy:\", model.objVal)\n",
    "    print (\"Weigh of each alloy: \")\n",
    "    for i in alloys: \n",
    "        print (i, \"'s weight needed (in lbs) is\", round(X[i].x,3))"
   ]
  },
  {
   "cell_type": "code",
   "execution_count": 12,
   "metadata": {
    "collapsed": true
   },
   "outputs": [],
   "source": [
    "# Problem 3"
   ]
  },
  {
   "cell_type": "markdown",
   "metadata": {},
   "source": [
    "  \\begin{align}\n",
    "&\\min  \\ \\sum \\sum cPW_{ij} * x_{ij} + \\sum \\sum cWR_{jk} * y_{jk}\\nonumber \\\\\n",
    "\\mbox{s.t. }&\\\\ \n",
    "& \\sum y_{jk} = demand_k\\nonumber \\ \\ , \\ for \\ each \\ node \\ k \\\\\n",
    "& \\sum x_{ij} - \\sum y_{jk} = 0\\nonumber \\\\\n",
    "&0\\leq x_{ij} \\leq u_{ij} \\ \\ ,\\ for \\ each \\ arc \\ i \\ to \\ j \\nonumber \\\\\n",
    "&0\\leq y_{jk} \\leq u_{jk} \\ \\ ,\\ for \\ each \\ arc \\ j \\ to \\ k \\nonumber \\\\\n",
    "& \\sum x_{jk} \\leq supply_{i} \\ \\ ,\\ for \\ \\ each \\ node \\ i \\\\\n",
    "& i = [1,2] \\nonumber \\\\\n",
    "& j = [1,2] \\nonumber \\\\\n",
    "& k = [1,2,3] \\nonumber \\\\\n",
    "\\end{align}"
   ]
  },
  {
   "cell_type": "code",
   "execution_count": 13,
   "metadata": {
    "collapsed": true
   },
   "outputs": [],
   "source": [
    "import networkx as nx\n",
    "\n",
    "#create an directed graph\n",
    "g=nx.DiGraph()\n",
    "\n",
    "#add edges\n",
    "g.add_edge('P1','W1',weight=450)\n",
    "g.add_edge('P2','W1',weight=510)\n",
    "\n",
    "g.add_edge('P1','W2',weight=560)\n",
    "g.add_edge('P2','W2',weight=600)\n",
    "\n",
    "g.add_edge('W1','RO1',weight=470)\n",
    "g.add_edge('W2','RO1',weight=390)\n",
    "\n",
    "g.add_edge('W1','RO2',weight=505)\n",
    "g.add_edge('W2','RO2',weight=415)\n",
    "\n",
    "g.add_edge('W1','RO3',weight=495)\n",
    "g.add_edge('W2','RO3',weight=440)"
   ]
  },
  {
   "cell_type": "code",
   "execution_count": 35,
   "metadata": {},
   "outputs": [
    {
     "data": {
      "image/png": "[encoded data removed]",
      "text/plain": [
       "<matplotlib.figure.Figure at 0xc571fbbb70>"
      ]
     },
     "metadata": {},
     "output_type": "display_data"
    }
   ],
   "source": [
    "#plot the network\n",
    "import matplotlib.pyplot as plt\n",
    "#from networkx.utils import random_state as nxd\n",
    "#import networkx.drawing.layout as nxd\n",
    "#nx.draw(g,with_labels=True)\n",
    "#pos = nx.planar_layout(g)\n",
    "#nx.draw_networkx_nodes(g, pos= nx.planar_layout(g), node_color='r', with_labels=True)\n",
    "#nx.draw_networkx_labels(g, pos= nxd.planar_layout(g), label_pos = 0.5)\n",
    "#nx.draw_networkx_labels(g, pos= nxd.spring_layout(g), label_pos = 0.5)\n",
    "#nx.draw(g,with_labels=True)\n",
    "#plt.show()\n",
    "\n",
    "#type of graph\n",
    "pos = nx.spring_layout(g) \n",
    "fig, ax = plt.subplots()\n",
    "ax.set_title('Network Flow of Plants to Warehouses to Retail Outlets')\n",
    "#plt.figure(1,figsize=(80,80)) \n",
    "nx.draw_networkx(g, pos, with_labels = True,\n",
    "                 linewidths =5, \n",
    "                 node_size = 500, node_color = 'yellow', alpha = 0.75,\n",
    "                 width = 2,\n",
    "                 font_size = 12, font_color = 'blue',\n",
    "                 font_weight = 'light', \n",
    "                 label = True)\n",
    "\n",
    "plt.axis('off') #turned off axis\n",
    "plt.show() #show plot"
   ]
  },
  {
   "cell_type": "code",
   "execution_count": 36,
   "metadata": {
    "collapsed": true
   },
   "outputs": [],
   "source": [
    "#coefficients and parameters\n",
    "plants = [\"P1\", \"P2\"] #plants\n",
    "warehouses = [\"W1\" , \"W2\"] #warehouses\n",
    "rOutlets = [\"RO1\", \"RO2\", \"RO3\"] #retail outlets\n",
    "supply = {\"P1\": 2000, \"P2\":3000}\n",
    "demands = {\"RO1\": 175, \"RO2\": 200, \"RO3\": 150}\n",
    "\n",
    "# plants to warehouses\n",
    "shipCost_PW = {\n",
    "  (\"P1\", \"W1\"):   450,\n",
    "  (\"P1\", \"W2\"):   560, \n",
    "  (\"P2\", \"W1\"):   510,\n",
    "  (\"P2\", \"W2\"):   600,   \n",
    "}\n",
    "\n",
    "shipCapacity_PW = {\n",
    "  (\"P1\", \"W1\"):   125,\n",
    "  (\"P1\", \"W2\"):   150, \n",
    "  (\"P2\", \"W1\"):   175,\n",
    "  (\"P2\", \"W2\"):   200,   \n",
    "}\n",
    "\n",
    "shipCpst_WR = {\n",
    "  (\"W1\", \"RO1\"):   470,\n",
    "  (\"W1\", \"RO2\"):   505, \n",
    "  (\"W1\", \"RO3\"):   495, \n",
    "  (\"W2\", \"RO1\"):   390,\n",
    "  (\"W2\", \"RO2\"):   415, \n",
    "  (\"W2\", \"RO3\"):   440,   \n",
    "}\n",
    "\n",
    "shipCapacity_WR = {\n",
    "  (\"W1\", \"RO1\"):   100,\n",
    "  (\"W1\", \"RO2\"):   150, \n",
    "  (\"W1\", \"RO3\"):   100, \n",
    "  (\"W2\", \"RO1\"):   125,\n",
    "  (\"W2\", \"RO2\"):   150, \n",
    "  (\"W2\", \"RO3\"):   75,   \n",
    "}"
   ]
  },
  {
   "cell_type": "code",
   "execution_count": 37,
   "metadata": {
    "collapsed": true
   },
   "outputs": [],
   "source": [
    "#decision variables\n",
    "from gurobipy import * \n",
    "model = Model(\"PWO_Network\")\n",
    "    \n",
    "X = {} #number of goods that are flowing from plant to dist warehouse\n",
    "Y = {} #number of goods that are flowing from warehouse to retail outlets\n",
    "\n",
    "for i in plants: \n",
    "    for j in warehouses:\n",
    "        X[i,j] = model.addVar(vtype=GRB.INTEGER,lb=0,ub=GRB.INFINITY)\n",
    "\n",
    "for j in warehouses: \n",
    "    for k in rOutlets:\n",
    "        Y[j,k] = model.addVar(vtype=GRB.INTEGER,lb=0,ub=GRB.INFINITY)\n",
    "\n",
    "model.modelSense = GRB.MINIMIZE                   \n",
    "model.update()"
   ]
  },
  {
   "cell_type": "code",
   "execution_count": 38,
   "metadata": {
    "collapsed": true
   },
   "outputs": [],
   "source": [
    "#demand constraints\n",
    "for k in rOutlets:    \n",
    "    model.addConstr(quicksum(Y[j,k] for j in warehouses) == demands[k])   \n",
    "\n",
    "#maximum flow contraints\n",
    "for i in plants: \n",
    "    for j in warehouses: \n",
    "        model.addConstr(X[i,j] <= shipCapacity_PW[i,j]) \n",
    "\n",
    "for j in warehouses: \n",
    "    for  k in rOutlets:\n",
    "        model.addConstr(Y[j,k] <= shipCapacity_WR[j,k])         \n",
    "\n",
    "# maximum capacity \n",
    "for i in plants: \n",
    "    model.addConstr(quicksum(X[i,j] for j in warehouses) <= supply[i] )  \n",
    "\n",
    "# Equilibrium \n",
    "\n",
    "for j in warehouses:\n",
    "    model.addConstr(quicksum(X[i,j] for i in plants) - quicksum(Y[j,k] for k in rOutlets) == 0) \n",
    "\n",
    "# objective function\n",
    "objective = quicksum(shipCost_PW[i,j]*X[i,j] for j in warehouses for i in plants) + quicksum(shipCpst_WR[j,k]*Y[j,k] for k in rOutlets for j in warehouses)\n",
    "\n",
    "model.setObjective(objective)"
   ]
  },
  {
   "cell_type": "code",
   "execution_count": 39,
   "metadata": {},
   "outputs": [
    {
     "name": "stdout",
     "output_type": "stream",
     "text": [
      "Gurobi Optimizer version 9.0.1 build v9.0.1rc0 (win64)\n",
      "Optimize a model with 17 rows, 10 columns and 30 nonzeros\n",
      "Model fingerprint: 0x313230c4\n",
      "Variable types: 0 continuous, 10 integer (0 binary)\n",
      "Coefficient statistics:\n",
      "  Matrix range     [1e+00, 1e+00]\n",
      "  Objective range  [4e+02, 6e+02]\n",
      "  Bounds range     [0e+00, 0e+00]\n",
      "  RHS range        [8e+01, 3e+03]\n",
      "Presolve removed 17 rows and 10 columns\n",
      "Presolve time: 0.01s\n",
      "Presolve: All rows and columns removed\n",
      "\n",
      "Explored 0 nodes (0 simplex iterations) in 0.05 seconds\n",
      "Thread count was 1 (of 8 available processors)\n",
      "\n",
      "Solution count 1: 514250 \n",
      "\n",
      "Optimal solution found (tolerance 1.00e-04)\n",
      "Best objective 5.142500000000e+05, best bound 5.142500000000e+05, gap 0.0000%\n"
     ]
    }
   ],
   "source": [
    "model.optimize()"
   ]
  },
  {
   "cell_type": "code",
   "execution_count": 40,
   "metadata": {},
   "outputs": [
    {
     "name": "stdout",
     "output_type": "stream",
     "text": [
      "The minimum cost flow: 514250.0\n",
      "--- Quantity (Plants to Warehouses)---\n",
      "P1 W1 125.0\n",
      "P1 W2 150.0\n",
      "P2 W1 125.0\n",
      "P2 W2 125.0\n",
      "--- Quantity (Warehouses to Retail Outlets)---\n",
      "W1 RO1 100.0\n",
      "W1 RO2 50.0\n",
      "W1 RO3 100.0\n",
      "W2 RO1 75.0\n",
      "W2 RO2 150.0\n",
      "W2 RO3 50.0\n"
     ]
    }
   ],
   "source": [
    "#Print outputs\n",
    "if model.status==GRB.OPTIMAL:\n",
    "    print (\"The minimum cost flow:\", model.objVal)\n",
    "    print (\"--- Quantity (Plants to Warehouses)---\")\n",
    "    for i in plants: \n",
    "        for j in warehouses:\n",
    "            print ( i, j, X[i,j].x)\n",
    "    \n",
    "    print (\"--- Quantity (Warehouses to Retail Outlets)---\")\n",
    "    for j in warehouses: \n",
    "        for k in rOutlets:\n",
    "            print (j, k, Y[j,k].x)"
   ]
  },
  {
   "cell_type": "code",
   "execution_count": 41,
   "metadata": {
    "collapsed": true
   },
   "outputs": [],
   "source": [
    "# Problem 4"
   ]
  },
  {
   "cell_type": "markdown",
   "metadata": {},
   "source": [
    "  \\begin{align}\n",
    "& \\min \\ \\sum \\sum cFD_{ij} * x_{ij} + \\sum \\sum cFW_{ik} * y_{jk} + \\sum \\sum cDW_{jk} * z_{jk} \\nonumber \\\\\n",
    "\\mbox{s.t. }&\\\\ \n",
    "& \\sum y_{ik} + \\sum z_{jk} = allocation_k \\nonumber \\ \\ , \\ for \\ each \\ node \\ k \\\\\n",
    "&0\\leq x_{ij} \\leq u_{ij} \\ \\ ,\\ for \\ each \\ arc \\ i \\ to \\ j \\nonumber \\\\\n",
    "&0\\leq y_{ik} \\leq u_{ik} \\ \\ ,\\ for \\ each \\ arc \\ i \\ to \\ k \\nonumber \\\\\n",
    "&0\\leq z_{jk} \\leq u_{jk} \\ \\ ,\\ for \\ each \\ arc \\ j \\ to \\ k \\nonumber \\\\\n",
    "& \\sum x_{ij} \\sum y_{ik} \\leq supply_{i} \\ \\ ,\\ for \\ \\ each \\ node \\ i \\\\\n",
    "& \\sum x_{ij} - \\sum z_{jk} = 0 \\nonumber \\\\\n",
    "& i = [1,2] \\nonumber \\\\\n",
    "& j = [1] \\nonumber \\\\\n",
    "& k = [1,2] \\nonumber \\\\\n",
    "\\end{align}"
   ]
  },
  {
   "cell_type": "code",
   "execution_count": 42,
   "metadata": {
    "collapsed": true
   },
   "outputs": [],
   "source": [
    "import networkx as nx\n",
    "g2 = nx.DiGraph() #create an directed graph\n",
    "\n",
    "#add edges\n",
    "g2.add_edge('F1','W1',weight=6)\n",
    "g2.add_edge('F1','DC',weight=2)\n",
    "g2.add_edge('DC','W1',weight=3)\n",
    "\n",
    "g2.add_edge('F2','W2',weight=9)\n",
    "g2.add_edge('F2','DC',weight=4)\n",
    "g2.add_edge('DC','W2',weight=4)"
   ]
  },
  {
   "cell_type": "code",
   "execution_count": 43,
   "metadata": {},
   "outputs": [
    {
     "data": {
      "image/png": "[encoded data removed]",
      "text/plain": [
       "<matplotlib.figure.Figure at 0xc573995be0>"
      ]
     },
     "metadata": {},
     "output_type": "display_data"
    }
   ],
   "source": [
    "#plot the network\n",
    "import matplotlib.pyplot as plt\n",
    "#from networkx.utils import random_state as nxd\n",
    "#import networkx.drawing.layout as nxd\n",
    "#nx.draw(g,with_labels=True)\n",
    "#pos = nx.planar_layout(g)\n",
    "#nx.draw_networkx_nodes(g, pos= nx.planar_layout(g), node_color='r', with_labels=True)\n",
    "#nx.draw_networkx_labels(g, pos= nxd.planar_layout(g), label_pos = 0.5)\n",
    "#nx.draw(g,pos=nx.spring_layout(g),with_labels=True)\n",
    "#plt.show()\n",
    "\n",
    "pos = nx.spring_layout(g2) #type of graph\n",
    "fig, ax = plt.subplots()\n",
    "ax.set_title('Network Flow of Between Factories, Warehouses, and Distribution Center')\n",
    "plt.figure(1,figsize=(100,100)) \n",
    "nx.draw_networkx(g2,with_labels=True,\n",
    "                 linewidths =2, node_size = 400, alpha = 0.60,\n",
    "                 width = 2,\n",
    "                 font_size = 13, font_color = 'blue',\n",
    "                 font_weight = 'bold', \n",
    "                 label = True)\n",
    "\n",
    "\n",
    "plt.axis('off') #turned off axis\n",
    "plt.show() #show plot"
   ]
  },
  {
   "cell_type": "code",
   "execution_count": 44,
   "metadata": {
    "collapsed": true
   },
   "outputs": [],
   "source": [
    "#coefficients and parameters\n",
    "factories = [\"F1\", \"F2\"] #factories\n",
    "warehouses = [\"W1\" , \"W2\"] #warehouses\n",
    "dCenter = [\"DC\"] #distribution center\n",
    "supply = {\"F1\": 80, \"F2\":70}\n",
    "allocation = {\"W1\": 60, \"W2\": 90}\n",
    "\n",
    "# plants to warehouses\n",
    "shipCost_FW = {\n",
    "  (\"F1\", \"W1\"):   6,\n",
    "  (\"F1\", \"W2\"):   0, \n",
    "  (\"F2\", \"W1\"):   0,\n",
    "  (\"F2\", \"W2\"):   9,  \n",
    "}\n",
    "shipCost_FD = {\n",
    "  (\"F1\", \"DC\"):   2,  \n",
    "  (\"F2\", \"DC\"):   4   \n",
    "}\n",
    "shipCost_DW= {\n",
    "  (\"DC\", \"W1\"):   3, \n",
    "  (\"DC\", \"W2\"):   4  \n",
    "}\n",
    "\n",
    "shipCapacity_FW = {\n",
    "  (\"F1\", \"W1\"):   80,\n",
    "  (\"F1\", \"W2\"):   0, \n",
    "  (\"F2\", \"W1\"):   0,\n",
    "  (\"F2\", \"W2\"):   70 \n",
    "}\n",
    "shipCapacity_FD = {\n",
    "  (\"F1\", \"DC\"):   50, \n",
    "  (\"F2\", \"DC\"):   50   \n",
    "}\n",
    "shipCapacity_DW= {\n",
    "  (\"DC\", \"W1\"):   50, \n",
    "  (\"DC\", \"W2\"):   50   \n",
    "}"
   ]
  },
  {
   "cell_type": "code",
   "execution_count": 45,
   "metadata": {
    "collapsed": true
   },
   "outputs": [],
   "source": [
    "#decision variables\n",
    "from gurobipy import * \n",
    "model = Model(\"FDW_Network\")\n",
    "    \n",
    "X = {} #number of products that are flowing from factories to dist center\n",
    "Y = {} #number of products that are flowing from factories to warehouses\n",
    "Z = {} #number of products that are flowing from dist center to warehouses\n",
    "\n",
    "for i in factories: \n",
    "    for j in dCenter:\n",
    "        X[i,j] = model.addVar(vtype=GRB.INTEGER,lb=0,ub=GRB.INFINITY)\n",
    "\n",
    "for i in factories: \n",
    "    for k in warehouses:\n",
    "        Y[i,k] = model.addVar(vtype=GRB.INTEGER,lb=0,ub=GRB.INFINITY)\n",
    "\n",
    "for j in dCenter: \n",
    "    for k in warehouses:\n",
    "        Z[j,k] = model.addVar(vtype=GRB.INTEGER,lb=0,ub=GRB.INFINITY)\n",
    "        \n",
    "model.modelSense = GRB.MINIMIZE                   \n",
    "model.update()"
   ]
  },
  {
   "cell_type": "code",
   "execution_count": 46,
   "metadata": {
    "collapsed": true
   },
   "outputs": [],
   "source": [
    "#allocation constraints\n",
    "for k in warehouses:    \n",
    "    model.addConstr(quicksum(Y[i,k] for i in factories) + \n",
    "                    quicksum(Z[j,k] for j in dCenter) == allocation[k])   \n",
    "\n",
    "#maximum flow contraints\n",
    "for i in factories: #factory to DC\n",
    "    for j in dCenter:\n",
    "        model.addConstr(X[i,j] <= shipCapacity_FD[i,j]) \n",
    "for i in factories: #factory to warehouse\n",
    "    for k in warehouses:\n",
    "        model.addConstr(Y[i,k] <= shipCapacity_FW[i,k])         \n",
    "for j in dCenter: #DC to warehouse\n",
    "    for k in warehouses:\n",
    "        model.addConstr(Z[j,k] <= shipCapacity_DW[j,k]) \n",
    "\n",
    "# maximum supply \n",
    "for i in factories:    \n",
    "    model.addConstr(quicksum(X[i,j] for j in dCenter) + \n",
    "                    quicksum(Y[i,k] for k in warehouses) <= supply[i] )  \n",
    "\n",
    "# Equilibrium - transshipment node at DC\n",
    "for j in dCenter:\n",
    "    model.addConstr(quicksum(X[i,j] for i in factories) - \n",
    "                    quicksum(Z[j,k] for k in warehouses) == 0) \n",
    "\n",
    "#objective function\n",
    "objective = quicksum(shipCost_FD[i,j]*X[i,j] for j in dCenter for i in factories) + quicksum(shipCost_FW[i,k]*Y[i,k] for k in warehouses for i in factories) + quicksum(shipCost_DW[j,k]*Z[j,k] for k in warehouses for j in dCenter)\n",
    "\n",
    "model.setObjective(objective)"
   ]
  },
  {
   "cell_type": "code",
   "execution_count": 47,
   "metadata": {},
   "outputs": [
    {
     "name": "stdout",
     "output_type": "stream",
     "text": [
      "Gurobi Optimizer version 9.0.1 build v9.0.1rc0 (win64)\n",
      "Optimize a model with 13 rows, 8 columns and 24 nonzeros\n",
      "Model fingerprint: 0xc1d24968\n",
      "Variable types: 0 continuous, 8 integer (0 binary)\n",
      "Coefficient statistics:\n",
      "  Matrix range     [1e+00, 1e+00]\n",
      "  Objective range  [2e+00, 9e+00]\n",
      "  Bounds range     [0e+00, 0e+00]\n",
      "  RHS range        [5e+01, 9e+01]\n",
      "Presolve removed 13 rows and 8 columns\n",
      "Presolve time: 0.00s\n",
      "Presolve: All rows and columns removed\n",
      "\n",
      "Explored 0 nodes (0 simplex iterations) in 0.04 seconds\n",
      "Thread count was 1 (of 8 available processors)\n",
      "\n",
      "Solution count 1: 1050 \n",
      "\n",
      "Optimal solution found (tolerance 1.00e-04)\n",
      "Best objective 1.050000000000e+03, best bound 1.050000000000e+03, gap 0.0000%\n"
     ]
    }
   ],
   "source": [
    "model.optimize()"
   ]
  },
  {
   "cell_type": "code",
   "execution_count": 48,
   "metadata": {},
   "outputs": [
    {
     "name": "stdout",
     "output_type": "stream",
     "text": [
      "The minimum cost flow for this network: 1050.0\n",
      "Number of product from Factory to Distribution Center:\n",
      "F1 DC 50.0\n",
      "F2 DC 30.0\n",
      "Number of product from Factory to Warehouse:\n",
      "F1 W1 30.0\n",
      "F1 W2 0.0\n",
      "F2 W1 0.0\n",
      "F2 W2 40.0\n",
      "Number of product from Distribution Center to the Warehouse:\n",
      "DC W1 30.0\n",
      "DC W2 50.0\n"
     ]
    }
   ],
   "source": [
    "#Printing outputs\n",
    "if model.status==GRB.OPTIMAL:\n",
    "    print (\"The minimum cost flow for this network:\", model.objVal)\n",
    "\n",
    "    print (\"Number of product from Factory to Distribution Center:\")\n",
    "    for i in factories: \n",
    "        for j in dCenter:\n",
    "            if(X[i,j].x > 0):\n",
    "                print (i, j, X[i,j].x)\n",
    "            else:\n",
    "                print (i, j, 0.00)\n",
    "\n",
    "    print (\"Number of product from Factory to Warehouse:\")\n",
    "    for i in factories: \n",
    "        for k in warehouses:\n",
    "            if(Y[i,k].x > 0):\n",
    "                print (i, k, Y[i,k].x)\n",
    "            else:\n",
    "                print (i, k, 0.00)            \n",
    "                \n",
    "    print (\"Number of product from Distribution Center to the Warehouse:\")\n",
    "    for j in dCenter: \n",
    "        for k in warehouses:\n",
    "            if(Z[j,k].x > 0):\n",
    "                print ( j, k, Z[j,k].x)\n",
    "            else:\n",
    "                print ( j, k, 0.00)"
   ]
  },
  {
   "cell_type": "code",
   "execution_count": null,
   "metadata": {
    "collapsed": true
   },
   "outputs": [],
   "source": []
  }
 ],
 "metadata": {
  "kernelspec": {
   "display_name": "Python 3",
   "language": "python",
   "name": "python3"
  },
  "language_info": {
   "codemirror_mode": {
    "name": "ipython",
    "version": 3
   },
   "file_extension": ".py",
   "mimetype": "text/x-python",
   "name": "python",
   "nbconvert_exporter": "python",
   "pygments_lexer": "ipython3",
   "version": "3.6.1"
  }
 },
 "nbformat": 4,
 "nbformat_minor": 2
}
