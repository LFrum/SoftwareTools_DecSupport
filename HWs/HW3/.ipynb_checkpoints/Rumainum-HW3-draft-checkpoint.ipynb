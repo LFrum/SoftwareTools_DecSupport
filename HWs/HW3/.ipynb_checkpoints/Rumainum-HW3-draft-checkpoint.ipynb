{
 "cells": [
  {
   "cell_type": "code",
   "execution_count": 14,
   "metadata": {
    "collapsed": true
   },
   "outputs": [],
   "source": [
    "#Lince Rumainum\n",
    "#ISE5123\n",
    "#HW-3\n",
    "\n",
    "#Problem 1\n",
    "#coefficients and parameters\n",
    "warehouses = [\"A\" , \"B\"]\n",
    "retailers = [\"retailer1\", \"retailer2\", \"retailer3\", \"retailer4\", \"retailer5\"]\n",
    "supply = {\"A\": 2000, \"B\":3000}\n",
    "demand = {\"retailer1\": 500, \"retailer2\": 800, \"retailer3\": 1800,\n",
    "          \"retailer4\": 300, \"retailer5\": 700}\n",
    "cost = {\n",
    "  (\"A\", \"retailer1\"):   2,\n",
    "  (\"A\", \"retailer2\"):   4, \n",
    "  (\"A\", \"retailer3\"):   5,\n",
    "  (\"A\", \"retailer4\"):   2, \n",
    "  (\"A\", \"retailer5\"):   1,\n",
    "  (\"B\", \"retailer1\"):   3,\n",
    "  (\"B\", \"retailer2\"):   1, \n",
    "  (\"B\", \"retailer3\"):   3,\n",
    "  (\"B\", \"retailer4\"):   2, \n",
    "  (\"B\", \"retailer5\"):   3\n",
    "}  "
   ]
  },
  {
   "cell_type": "code",
   "execution_count": 29,
   "metadata": {},
   "outputs": [],
   "source": [
    "#Decision variables\n",
    "from gurobipy import * \n",
    "model = Model(\"WarehousesToRetailers-Network\")\n",
    "\n",
    "X={} # number of products\n",
    "\n",
    "for i in warehouses: \n",
    "    for j in retailers:\n",
    "        X[i,j] = model.addVar(vtype=GRB.INTEGER,lb=0,ub=INFINITY)\n",
    "\n",
    "model.modelSense = GRB.MINIMIZE                  \n",
    "model.update()"
   ]
  },
  {
   "cell_type": "code",
   "execution_count": 30,
   "metadata": {},
   "outputs": [],
   "source": [
    "#Constraints\n",
    "\n",
    "#demands\n",
    "for j in retailers:    \n",
    "    model.addConstr(quicksum(X[i,j] for i in warehouses) == demand[j])   \n",
    "\n",
    "#maximum supply\n",
    "for i in warehouses:    \n",
    "    model.addConstr(quicksum(X[i,j] for j in retailers) <= supply[i] )  \n",
    "    \n",
    "#non-negativity\n",
    "for i in warehouses:  \n",
    "    for j in retailers:\n",
    "        model.addConstr(X[i,j] >= 0) \n",
    "\n",
    "#objective function\n",
    "objective = quicksum(cost[i,j]*X[i,j] for j in retailers for i in warehouses)\n",
    " \n",
    "model.setObjective(objective)"
   ]
  },
  {
   "cell_type": "code",
   "execution_count": 31,
   "metadata": {
    "scrolled": true
   },
   "outputs": [
    {
     "name": "stdout",
     "output_type": "stream",
     "text": [
      "Gurobi Optimizer version 9.0.1 build v9.0.1rc0 (win64)\n",
      "Optimize a model with 17 rows, 10 columns and 30 nonzeros\n",
      "Model fingerprint: 0x2a8d3824\n",
      "Variable types: 0 continuous, 10 integer (0 binary)\n",
      "Coefficient statistics:\n",
      "  Matrix range     [1e+00, 1e+00]\n",
      "  Objective range  [1e+00, 5e+00]\n",
      "  Bounds range     [0e+00, 0e+00]\n",
      "  RHS range        [3e+02, 3e+03]\n",
      "Presolve removed 15 rows and 6 columns\n",
      "Presolve time: 0.00s\n",
      "Presolved: 2 rows, 4 columns, 8 nonzeros\n",
      "Variable types: 0 continuous, 4 integer (0 binary)\n",
      "Found heuristic solution: objective 8500.0000000\n",
      "\n",
      "Explored 0 nodes (0 simplex iterations) in 0.06 seconds\n",
      "Thread count was 8 (of 8 available processors)\n",
      "\n",
      "Solution count 1: 8500 \n",
      "\n",
      "Optimal solution found (tolerance 1.00e-04)\n",
      "Best objective 8.500000000000e+03, best bound 8.500000000000e+03, gap 0.0000%\n"
     ]
    }
   ],
   "source": [
    "model.optimize()"
   ]
  },
  {
   "cell_type": "code",
   "execution_count": 34,
   "metadata": {},
   "outputs": [
    {
     "name": "stdout",
     "output_type": "stream",
     "text": [
      "The optimal value: 8500.0\n",
      "Number of products from warehouse to retailers: \n",
      "From Warehouse A to retailer1 is 500.0\n",
      "From Warehouse A to retailer2 is -0.0\n",
      "From Warehouse A to retailer3 is -0.0\n",
      "From Warehouse A to retailer4 is 100.0\n",
      "From Warehouse A to retailer5 is 700.0\n",
      "From Warehouse B to retailer1 is 0.0\n",
      "From Warehouse B to retailer2 is 800.0\n",
      "From Warehouse B to retailer3 is 1800.0\n",
      "From Warehouse B to retailer4 is 200.0\n",
      "From Warehouse B to retailer5 is 0.0\n"
     ]
    }
   ],
   "source": [
    "#Print outputs\n",
    "if model.status==GRB.OPTIMAL:\n",
    "    print (\"The optimal value:\", model.objVal)\n",
    "    print (\"Number of products from warehouse to retailers: \")\n",
    "    for i in warehouses: \n",
    "        for j in retailers:\n",
    "            print (\"From Warehouse\", i, \"to\", j, \"is\", X[i,j].x)"
   ]
  },
  {
   "cell_type": "code",
   "execution_count": 67,
   "metadata": {},
   "outputs": [
    {
     "data": {
      "text/plain": [
       "'\\npropAlloy = {\\n  (\"tin\", \"alloy1\") :   60,\\n  (\"tin\", \"alloy2\") :   25, \\n  (\"tin\", \"alloy3\") :   45,\\n  (\"tin\", \"alloy4\") :   30, \\n  (\"tin\", \"alloy5\") :   50,\\n  (\"zinc\", \"alloy1\"):   20,\\n  (\"zinc\", \"alloy2\"):   15, \\n  (\"zinc\", \"alloy3\"):   45,\\n  (\"zinc\", \"alloy4\"):   40, \\n  (\"zinc\", \"alloy5\"):   40,\\n  (\"lead\", \"alloy1\"):   20,\\n  (\"lead\", \"alloy2\"):   60, \\n  (\"lead\", \"alloy3\"):   10,\\n  (\"lead\", \"alloy4\"):   30, \\n  (\"lead\", \"alloy5\"):   10\\n\\n}  #Percentage of each properties in each alloy\\n\\n'"
      ]
     },
     "execution_count": 67,
     "metadata": {},
     "output_type": "execute_result"
    }
   ],
   "source": [
    "#Problem 2\n",
    "\n",
    "#coefficients and parameters\n",
    "properties = [\"tin\" , \"zinc\", \"lead\"]\n",
    "alloys = [\"alloy1\", \"alloy2\", \"alloy3\", \"alloy4\", \"alloy5\"]\n",
    "#percentage of each property to make new alloy\n",
    "newAlloyProp = {\"tin\": 35, \"zinc\":35, \"lead\":30} \n",
    "cost = {\"alloy1\": 22, \"alloy2\": 26, \"alloy3\": 25,\n",
    "          \"alloy4\": 21, \"alloy5\": 27} # ($/lb)\n",
    "propAlloyTin = {\n",
    "  (\"alloy1\") :   60,\n",
    "  (\"alloy2\") :   25, \n",
    "  (\"alloy3\") :   45,\n",
    "  (\"alloy4\") :   30, \n",
    "  (\"alloy5\") :   50}\n",
    "propAlloyZinc = {\n",
    "  (\"alloy1\"):   20,\n",
    "  (\"alloy2\"):   15, \n",
    "  (\"alloy3\"):   45,\n",
    "  (\"alloy4\"):   40, \n",
    "  (\"alloy5\"):   40}\n",
    "propAlloyLead = {\n",
    "  (\"alloy1\"):   20,\n",
    "  (\"alloy2\"):   60, \n",
    "  (\"alloy3\"):   10,\n",
    "  (\"alloy4\"):   30, \n",
    "  (\"alloy5\"):   10\n",
    "}  #Percentage of each properties in each alloy"
   ]
  },
  {
   "cell_type": "code",
   "execution_count": 68,
   "metadata": {
    "collapsed": true
   },
   "outputs": [],
   "source": [
    "#Decision variables\n",
    "from gurobipy import * \n",
    "model = Model(\"AlloyBlend\")\n",
    "\n",
    "X={} # weight of alloy used\n",
    "\n",
    "for i in alloys: \n",
    "    X[i] = model.addVar(vtype=GRB.CONTINUOUS,lb=0,ub=GRB.INFINITY)\n",
    "\n",
    "model.modelSense = GRB.MINIMIZE                  \n",
    "model.update()"
   ]
  },
  {
   "cell_type": "code",
   "execution_count": 69,
   "metadata": {},
   "outputs": [],
   "source": [
    "#Constraints\n",
    "\n",
    "#blend\n",
    "#for i in properties:\n",
    "#    model.addConstr(quicksum(propAlloy[i,j] * X[j] for j in alloys) == newAlloyProp[i])   \n",
    "\n",
    "model.addConstr(quicksum(propAlloyTin[i] * X[i] for i in alloys) == newAlloyProp['tin'])\n",
    "model.addConstr(quicksum(propAlloyZinc[i] * X[i] for i in alloys) == newAlloyProp['zinc'])   \n",
    "model.addConstr(quicksum(propAlloyLead[i] * X[i] for i in alloys) == newAlloyProp['lead'])   \n",
    "\n",
    "\n",
    "#model.addConstr(quicksum(propAlloyTin[i] * X[i] for i in alloys) == 35)\n",
    "#model.addConstr(quicksum(propAlloyZinc[i] * X[i] for i in alloys) == 35 )\n",
    "#model.addConstr(quicksum(propAlloyLead[i] * X[i] for i in alloys) == 30 )\n",
    "\n",
    "#sum of all alloys    \n",
    "model.addConstr(quicksum(X[i] for i in alloys) == 1 )\n",
    "                \n",
    "#non-negativity\n",
    "for i in alloys:\n",
    "    model.addConstr(X[i] >= 0) \n",
    "\n",
    "#objective function        \n",
    "# The sum of cost of alloy * weight of alloy\n",
    "# Sum (c(i) * x(i)) where i = {alloy1, alloy2, alloy3, alloy4, alloy5}\n",
    "objective = quicksum(cost[i]*X[i] for i in alloys)\n",
    " \n",
    "model.setObjective(objective)"
   ]
  },
  {
   "cell_type": "code",
   "execution_count": 70,
   "metadata": {},
   "outputs": [
    {
     "name": "stdout",
     "output_type": "stream",
     "text": [
      "Gurobi Optimizer version 9.0.1 build v9.0.1rc0 (win64)\n",
      "Optimize a model with 9 rows, 5 columns and 25 nonzeros\n",
      "Model fingerprint: 0x6d665d8c\n",
      "Coefficient statistics:\n",
      "  Matrix range     [1e+00, 6e+01]\n",
      "  Objective range  [2e+01, 3e+01]\n",
      "  Bounds range     [0e+00, 0e+00]\n",
      "  RHS range        [1e+00, 4e+01]\n",
      "Presolve removed 6 rows and 0 columns\n",
      "Presolve time: 0.03s\n",
      "Presolved: 3 rows, 5 columns, 15 nonzeros\n",
      "\n",
      "Iteration    Objective       Primal Inf.    Dual Inf.      Time\n",
      "       0    1.2833333e+01   5.208333e+00   0.000000e+00      0s\n",
      "       3    2.1470588e+01   0.000000e+00   0.000000e+00      0s\n",
      "\n",
      "Solved in 3 iterations and 0.06 seconds\n",
      "Optimal objective  2.147058824e+01\n"
     ]
    }
   ],
   "source": [
    "model.optimize()"
   ]
  },
  {
   "cell_type": "code",
   "execution_count": 74,
   "metadata": {},
   "outputs": [
    {
     "name": "stdout",
     "output_type": "stream",
     "text": [
      "The minimum cost of the new alloy: 21.470588235294116\n",
      "Weigh of each alloy: \n",
      "alloy1 's weight needed (in lbs) is 0.176\n",
      "alloy2 's weight needed (in lbs) is 0.059\n",
      "alloy3 's weight needed (in lbs) is 0.0\n",
      "alloy4 's weight needed (in lbs) is 0.765\n",
      "alloy5 's weight needed (in lbs) is 0.0\n"
     ]
    }
   ],
   "source": [
    "#Print outputs\n",
    "if model.status==GRB.OPTIMAL:\n",
    "    print (\"The minimum cost of the new alloy:\", model.objVal)\n",
    "    print (\"Weigh of each alloy: \")\n",
    "    for i in alloys: \n",
    "        print (i, \"'s weight needed (in lbs) is\", round(X[i].x,3))"
   ]
  },
  {
   "cell_type": "code",
   "execution_count": null,
   "metadata": {
    "collapsed": true
   },
   "outputs": [],
   "source": [
    "# Problem 3\n",
    "\n",
    "import networkx as nx\n",
    "#g = nx.Graph() #create an undirected graph\n",
    "g=nx.DiGraph()\n",
    "g.add_edge('P1','W1',weight=450)\n",
    "g.add_edge('P2','W1',weight=510)\n",
    "\n",
    "g.add_edge('P1','W2',weight=560)\n",
    "g.add_edge('P2','W2',weight=600)\n",
    "\n",
    "g.add_edge('W1','RO1',weight=470)\n",
    "g.add_edge('W2','RO1',weight=390)\n",
    "\n",
    "g.add_edge('W1','RO2',weight=505)\n",
    "g.add_edge('W2','RO2',weight=415)\n",
    "\n",
    "g.add_edge('W1','RO3',weight=495)\n",
    "g.add_edge('W2','RO3',weight=440)"
   ]
  },
  {
   "cell_type": "code",
   "execution_count": null,
   "metadata": {
    "scrolled": true
   },
   "outputs": [],
   "source": [
    "import matplotlib.pyplot as plt\n",
    "#from networkx.utils import random_state as nxd\n",
    "#import networkx.drawing.layout as nxd\n",
    "#nx.draw(g,with_labels=True)\n",
    "#pos = nx.planar_layout(g)\n",
    "#nx.draw_networkx_nodes(g, pos= nx.planar_layout(g), node_color='r', with_labels=True)\n",
    "#nx.draw_networkx_labels(g, pos= nxd.planar_layout(g))\n",
    "#nx.draw(g,with_labels=True)\n",
    "#plt.show()\n",
    "\n",
    "#type of graph\n",
    "pos = nx.spring_layout(g) \n",
    "fig, ax = plt.subplots()\n",
    "ax.set_title('Network Flow of Plants to Warehouses to Retail Outlets')\n",
    "plt.figure(1,figsize=(200,200)) \n",
    "nx.draw_networkx(g, pos, with_labels = True,\n",
    "                 linewidths =5, \n",
    "                 node_size = 500, node_color = 'yellow', alpha = 0.80,\n",
    "                 edge_color = 'green', width = 2,\n",
    "                 font_size = 12, font_color = 'blue',\n",
    "                 font_weight = 'light', \n",
    "                 label = True)\n",
    "#nx.draw_networkx_edge_labels(g,pos=nx.spring_layout(g), label_pos = 0.5)\n",
    "\n",
    "\n",
    "plt.axis('off')\n",
    "plt.show()"
   ]
  },
  {
   "cell_type": "code",
   "execution_count": 272,
   "metadata": {
    "collapsed": true
   },
   "outputs": [],
   "source": [
    "#coefficients and parameters\n",
    "plants = [\"P1\", \"P2\"] #plants\n",
    "warehouses = [\"W1\" , \"W2\"] #warehouses\n",
    "rOutlets = [\"RO1\", \"RO2\", \"RO3\"] #retail outlets\n",
    "supply = {\"P1\": 2000, \"P2\":3000}\n",
    "demands = {\"RO1\": 175, \"RO2\": 200, \"RO3\": 150}\n",
    "\n",
    "# plants to warehouses\n",
    "shipCost_PW = {\n",
    "  (\"P1\", \"W1\"):   450,\n",
    "  (\"P1\", \"W2\"):   560, \n",
    "  (\"P2\", \"W1\"):   510,\n",
    "  (\"P2\", \"W2\"):   600,   \n",
    "}\n",
    "\n",
    "shipCapacity_PW = {\n",
    "  (\"P1\", \"W1\"):   125,\n",
    "  (\"P1\", \"W2\"):   150, \n",
    "  (\"P2\", \"W1\"):   175,\n",
    "  (\"P2\", \"W2\"):   200,   \n",
    "}\n",
    "\n",
    "\n",
    "shipCpst_WR = {\n",
    "  (\"W1\", \"RO1\"):   470,\n",
    "  (\"W1\", \"RO2\"):   505, \n",
    "  (\"W1\", \"RO3\"):   495, \n",
    "  (\"W2\", \"RO1\"):   390,\n",
    "  (\"W2\", \"RO2\"):   415, \n",
    "  (\"W2\", \"RO3\"):   440,   \n",
    "}\n",
    "\n",
    "shipCapacity_WR = {\n",
    "  (\"W1\", \"RO1\"):   100,\n",
    "  (\"W1\", \"RO2\"):   150, \n",
    "  (\"W1\", \"RO3\"):   100, \n",
    "  (\"W2\", \"RO1\"):   125,\n",
    "  (\"W2\", \"RO2\"):   150, \n",
    "  (\"W2\", \"RO3\"):   75,   \n",
    "}"
   ]
  },
  {
   "cell_type": "code",
   "execution_count": 118,
   "metadata": {},
   "outputs": [],
   "source": [
    "#decision variables\n",
    "from gurobipy import * \n",
    "model = Model(\"PWO_Network\")\n",
    "    \n",
    "X={}\n",
    "Y={}\n",
    "\n",
    "for i in plants: \n",
    "    for j in warehouses:\n",
    "        X[i,j] = model.addVar(vtype=GRB.INTEGER,lb=0,ub=GRB.INFINITY)\n",
    "\n",
    "for j in warehouses: \n",
    "    for k in rOutlets:\n",
    "        Y[j,k] = model.addVar(vtype=GRB.INTEGER,lb=0,ub=GRB.INFINITY)\n",
    "\n",
    "model.modelSense = GRB.MINIMIZE                   \n",
    "model.update()"
   ]
  },
  {
   "cell_type": "code",
   "execution_count": 119,
   "metadata": {},
   "outputs": [],
   "source": [
    "#demand constraints\n",
    "for k in rOutlets:    \n",
    "    model.addConstr(quicksum(Y[j,k] for j in warehouses) == demands[k])   \n",
    "\n",
    "#maximum flow contraints\n",
    "for i in plants: \n",
    "    for j in warehouses: \n",
    "        model.addConstr(X[i,j] <= shipCapacity_PW[i,j]) \n",
    "\n",
    "for j in warehouses: \n",
    "    for  k in rOutlets:\n",
    "        model.addConstr(Y[j,k] <= shipCapacity_WR[j,k])         \n",
    "\n",
    "# maximum capacity \n",
    "for i in plants: \n",
    "    model.addConstr(quicksum(X[i,j] for j in warehouses) <= supply[i] )  \n",
    "\n",
    "# Equilibrium \n",
    "\n",
    "for j in warehouses:\n",
    "    model.addConstr(quicksum(X[i,j] for i in plants) - quicksum(Y[j,k] for k in rOutlets) == 0) \n",
    "\n",
    "# objective function\n",
    "objective = quicksum(shipCost_PW[i,j]*X[i,j] for j in warehouses for i in plants) + quicksum(shipCpst_WR[j,k]*Y[j,k] for k in rOutlets for j in warehouses)\n",
    "\n",
    "model.setObjective(objective)"
   ]
  },
  {
   "cell_type": "code",
   "execution_count": 120,
   "metadata": {},
   "outputs": [
    {
     "name": "stdout",
     "output_type": "stream",
     "text": [
      "Gurobi Optimizer version 9.0.1 build v9.0.1rc0 (win64)\n",
      "Optimize a model with 17 rows, 10 columns and 30 nonzeros\n",
      "Model fingerprint: 0x313230c4\n",
      "Variable types: 0 continuous, 10 integer (0 binary)\n",
      "Coefficient statistics:\n",
      "  Matrix range     [1e+00, 1e+00]\n",
      "  Objective range  [4e+02, 6e+02]\n",
      "  Bounds range     [0e+00, 0e+00]\n",
      "  RHS range        [8e+01, 3e+03]\n",
      "Presolve removed 17 rows and 10 columns\n",
      "Presolve time: 0.00s\n",
      "Presolve: All rows and columns removed\n",
      "\n",
      "Explored 0 nodes (0 simplex iterations) in 0.04 seconds\n",
      "Thread count was 1 (of 8 available processors)\n",
      "\n",
      "Solution count 1: 514250 \n",
      "\n",
      "Optimal solution found (tolerance 1.00e-04)\n",
      "Best objective 5.142500000000e+05, best bound 5.142500000000e+05, gap 0.0000%\n"
     ]
    }
   ],
   "source": [
    "model.optimize()"
   ]
  },
  {
   "cell_type": "code",
   "execution_count": 121,
   "metadata": {},
   "outputs": [
    {
     "name": "stdout",
     "output_type": "stream",
     "text": [
      "The minimum cost flow: 514250.0\n",
      "--- Quantity (Plants to Warehouses)---\n",
      "P1 W1 125.0\n",
      "P1 W2 150.0\n",
      "P2 W1 125.0\n",
      "P2 W2 125.0\n",
      "--- Quantity (Warehouses to Retail Outlets)---\n",
      "W1 RO1 100.0\n",
      "W1 RO2 50.0\n",
      "W1 RO3 100.0\n",
      "W2 RO1 75.0\n",
      "W2 RO2 150.0\n",
      "W2 RO3 50.0\n"
     ]
    }
   ],
   "source": [
    "#Print outputs\n",
    "if model.status==GRB.OPTIMAL:\n",
    "    print (\"The minimum cost flow:\", model.objVal)\n",
    "    print (\"--- Quantity (Plants to Warehouses)---\")\n",
    "    for i in plants: \n",
    "        for j in warehouses:\n",
    "            print ( i, j, X[i,j].x)\n",
    "    \n",
    "    print (\"--- Quantity (Warehouses to Retail Outlets)---\")\n",
    "    for j in warehouses: \n",
    "        for k in rOutlets:\n",
    "            print (j, k, Y[j,k].x)"
   ]
  },
  {
   "cell_type": "code",
   "execution_count": 211,
   "metadata": {},
   "outputs": [],
   "source": [
    "# Problem 4\n",
    "\n",
    "import networkx as nx\n",
    "g2 = nx.DiGraph() #create an undirected graph\n",
    "\n",
    "#assuming that costs:\n",
    "#cost of f1->w1 - cost of f1->dc = 4\n",
    "#cost of f2->w2 - cost of f2->dc = 5\n",
    "\n",
    "g2.add_edge('F1','W1',weight=6)\n",
    "g2.add_edge('F1','DC',weight=2)\n",
    "g2.add_edge('DC','W1',weight=4)\n",
    "\n",
    "g2.add_edge('F2','W2',weight=9)\n",
    "g2.add_edge('F2','DC',weight=4)\n",
    "g2.add_edge('DC','W2',weight=5)"
   ]
  },
  {
   "cell_type": "code",
   "execution_count": 217,
   "metadata": {},
   "outputs": [
    {
     "data": {
      "image/png": "[encoded data removed]",
      "text/plain": [
       "<matplotlib.figure.Figure at 0xf7d528b8d0>"
      ]
     },
     "metadata": {},
     "output_type": "display_data"
    }
   ],
   "source": [
    "import matplotlib.pyplot as plt\n",
    "#from networkx.utils import random_state as nxd\n",
    "#import networkx.drawing.layout as nxd\n",
    "#nx.draw(g,with_labels=True)\n",
    "#pos = nx.planar_layout(g)\n",
    "#nx.draw_networkx_nodes(g, pos= nx.planar_layout(g), node_color='r', with_labels=True)\n",
    "#nx.draw_networkx_labels(g, pos= nxd.planar_layout(g))\n",
    "#nx.draw(g,pos=nx.spring_layout(g),with_labels=True)\n",
    "#plt.show()\n",
    "nx.draw_networkx(g2,with_labels=True,\n",
    "                 linewidths =2, node_size = 400, \n",
    "                 font_size = 15, font_color = 'blue',\n",
    "                 font_weight = 'light', \n",
    "                 label = True)\n",
    "#nx.draw_networkx_edge_labels(g,pos=nx.spring_layout(g), label_pos = 0.5)\n",
    "plt.show()"
   ]
  },
  {
   "cell_type": "code",
   "execution_count": 213,
   "metadata": {
    "collapsed": true
   },
   "outputs": [],
   "source": [
    "#coefficients and parameters\n",
    "factories = [\"F1\", \"F2\"] #factories\n",
    "warehouses = [\"W1\" , \"W2\"] #warehouses\n",
    "dCenter = [\"DC\"] #distribution center\n",
    "supply = {\"F1\": 80, \"F2\":70}\n",
    "allocation = {\"W1\": 60, \"W2\": 90}\n",
    "\n",
    "# plants to warehouses\n",
    "shipCost_PW = {\n",
    "  (\"P1\", \"W1\"):   6,\n",
    "  (\"P1\", \"W2\"):   0, \n",
    "  (\"P1\", \"DC\"):   2, \n",
    "  (\"P2\", \"W1\"):   0,\n",
    "  (\"P2\", \"W2\"):   9,  \n",
    "  (\"P2\", \"DC\"):   4,   \n",
    "}\n",
    "\n",
    "shipCapacity_PW = {\n",
    "  (\"P1\", \"W1\"):   80,\n",
    "  (\"P1\", \"W2\"):   0, \n",
    "  (\"P1\", \"DC\"):   50, \n",
    "  (\"P2\", \"W1\"):   0,\n",
    "  (\"P2\", \"W2\"):   70,  \n",
    "  (\"P2\", \"DC\"):   50,   \n",
    "}"
   ]
  },
  {
   "cell_type": "code",
   "execution_count": null,
   "metadata": {
    "collapsed": true
   },
   "outputs": [],
   "source": [
    "#decision variables\n",
    "from gurobipy import * \n",
    "model = Model(\"FDW_Network\")\n",
    "    \n",
    "X={}\n",
    "Y={}\n",
    "\n",
    "for i in factories: \n",
    "    for j in dCenter:\n",
    "        X[i,j] = model.addVar(vtype=GRB.INTEGER,lb=0,ub=GRB.INFINITY)\n",
    "\n",
    "for j in warehouses: \n",
    "    for k in rOutlets:\n",
    "        Y[j,k] = model.addVar(vtype=GRB.INTEGER,lb=0,ub=GRB.INFINITY)\n",
    "\n",
    "model.modelSense = GRB.MINIMIZE                   \n",
    "model.update()"
   ]
  }
 ],
 "metadata": {
  "kernelspec": {
   "display_name": "Python 3",
   "language": "python",
   "name": "python3"
  },
  "language_info": {
   "codemirror_mode": {
    "name": "ipython",
    "version": 3
   },
   "file_extension": ".py",
   "mimetype": "text/x-python",
   "name": "python",
   "nbconvert_exporter": "python",
   "pygments_lexer": "ipython3",
   "version": "3.6.1"
  }
 },
 "nbformat": 4,
 "nbformat_minor": 2
}
