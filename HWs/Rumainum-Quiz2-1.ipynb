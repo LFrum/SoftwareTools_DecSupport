{
 "cells": [
  {
   "cell_type": "code",
   "execution_count": 23,
   "metadata": {
    "collapsed": true
   },
   "outputs": [],
   "source": [
    "#Lince Rumainum\n",
    "#12 March 2020\n",
    "#ISE 5123\n",
    "#Quiz 2\n",
    "\n",
    "factories = [\"F1\", \"F2\"]\n",
    "customers = [\"C1\", \"C2\", \"C3\"]\n",
    "outputs = {\"F1\": 400, \"F2\": 500}\n",
    "orders = {\"C1\": 300, \"C2\": 200, \"C3\": 400}\n",
    "\n",
    "cost = {\n",
    "    (\"F1\", \"C1\"): 600,\n",
    "    (\"F1\", \"C2\"): 800,\n",
    "    (\"F1\", \"C3\"): 700,\n",
    "    (\"F2\", \"C1\"): 400,\n",
    "    (\"F2\", \"C2\"): 900,\n",
    "    (\"F2\", \"C3\"): 600,\n",
    "}"
   ]
  },
  {
   "cell_type": "code",
   "execution_count": 24,
   "metadata": {
    "collapsed": true
   },
   "outputs": [],
   "source": [
    "from gurobipy import *\n",
    "\n",
    "#decision variable\n",
    "Factory = Model(\"FactoryNetwork\")\n",
    "\n",
    "X = {}\n",
    "\n",
    "for i in factories:\n",
    "    for j in customers:\n",
    "        X[i,j] = Factory.addVar(vtype=GRB.INTEGER,lb=0,ub=GRB.INFINITY)\n",
    "        \n",
    "Factory.modelSense= GRB.MINIMIZE\n",
    "Factory.update()"
   ]
  },
  {
   "cell_type": "code",
   "execution_count": 30,
   "metadata": {
    "collapsed": true
   },
   "outputs": [],
   "source": [
    "#constraints\n",
    "for i in factories:\n",
    "    Factory.addConstr(quicksum(X[i,j] for j in customers) <= outputs[i])\n",
    "    \n",
    "for j in customers:\n",
    "    Factory.addConstr(quicksum(X[i,j] for i in factories) == orders[j])\n",
    "\n",
    "#objective function\n",
    "objective = quicksum(cost[i,j] * X[i,j] for j in customers for i in factories )\n",
    "Factory.setObjective(objective) "
   ]
  },
  {
   "cell_type": "code",
   "execution_count": 31,
   "metadata": {},
   "outputs": [
    {
     "name": "stdout",
     "output_type": "stream",
     "text": [
      "Gurobi Optimizer version 9.0.0 build v9.0.0rc2 (win64)\n",
      "Optimize a model with 10 rows, 6 columns and 24 nonzeros\n",
      "Model fingerprint: 0x6a93d3c0\n",
      "Variable types: 0 continuous, 6 integer (0 binary)\n",
      "Coefficient statistics:\n",
      "  Matrix range     [1e+00, 1e+00]\n",
      "  Objective range  [4e+02, 9e+02]\n",
      "  Bounds range     [0e+00, 0e+00]\n",
      "  RHS range        [2e+02, 5e+02]\n",
      "\n",
      "MIP start from previous solve did not produce a new incumbent solution\n",
      "MIP start from previous solve violates constraint R7 by 300.000000000\n",
      "\n",
      "Presolve removed 10 rows and 6 columns\n",
      "Presolve time: 0.00s\n",
      "Presolve: All rows and columns removed\n",
      "\n",
      "Explored 0 nodes (0 simplex iterations) in 0.01 seconds\n",
      "Thread count was 1 (of 12 available processors)\n",
      "\n",
      "Solution count 1: 540000 \n",
      "\n",
      "Optimal solution found (tolerance 1.00e-04)\n",
      "Best objective 5.400000000000e+05, best bound 5.400000000000e+05, gap 0.0000%\n"
     ]
    }
   ],
   "source": [
    "Factory.optimize()"
   ]
  },
  {
   "cell_type": "code",
   "execution_count": 32,
   "metadata": {},
   "outputs": [
    {
     "name": "stdout",
     "output_type": "stream",
     "text": [
      "Optimal value: 540000.0\n",
      "for factory F1 to customer  C1 number of products -0.0\n",
      "for factory F1 to customer  C2 number of products 200.0\n",
      "for factory F1 to customer  C3 number of products 200.0\n",
      "for factory F2 to customer  C1 number of products 300.0\n",
      "for factory F2 to customer  C2 number of products 0.0\n",
      "for factory F2 to customer  C3 number of products 200.0\n"
     ]
    }
   ],
   "source": [
    "if Factory.status==GRB.OPTIMAL:\n",
    "    print (\"Optimal value:\", Factory.objVal)\n",
    "    for i in factories: \n",
    "        for j in customers:\n",
    "            print (\"for factory\", i, \"to customer \", j, \"number of products\", X[i,j].x)"
   ]
  },
  {
   "cell_type": "code",
   "execution_count": null,
   "metadata": {
    "collapsed": true
   },
   "outputs": [],
   "source": []
  }
 ],
 "metadata": {
  "kernelspec": {
   "display_name": "Python 3",
   "language": "python",
   "name": "python3"
  },
  "language_info": {
   "codemirror_mode": {
    "name": "ipython",
    "version": 3
   },
   "file_extension": ".py",
   "mimetype": "text/x-python",
   "name": "python",
   "nbconvert_exporter": "python",
   "pygments_lexer": "ipython3",
   "version": "3.6.1"
  }
 },
 "nbformat": 4,
 "nbformat_minor": 2
}
