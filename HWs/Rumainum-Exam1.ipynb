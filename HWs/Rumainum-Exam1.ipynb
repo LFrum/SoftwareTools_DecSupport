{
 "cells": [
  {
   "cell_type": "code",
   "execution_count": 15,
   "metadata": {},
   "outputs": [],
   "source": [
    "#Lince Rumainum\n",
    "#ISE-5123\n",
    "#\"I understand that it is considered cheating to give or receive any unauthorized\n",
    "#assistance on this online test.\"\n",
    "\n",
    "#Problem 1-a\n",
    "#FALSE\n",
    "#Because the indentation and variable count is case sensitive\n",
    "\n",
    "#Problem 1-b\n",
    "#FALSE\n",
    "#Because the list start at 0 and data[1:3] would give data from index 1 to 2\n",
    "#so the result would be [20,30]\n",
    "\n",
    "#Problem 1-c\n",
    "#FALSE\n",
    "#Because it is taking the square root of the list [9, 25, 36]\n",
    "\n",
    "#Problem 1-d\n",
    "#FALSE \n",
    "#Because the recursive calls for Fibonacci function makes \n",
    "#approximately 2^n recursive calls\n",
    "\n",
    "#Problem 1-e\n",
    "#TRUE\n",
    "#although different machine can take different time and impractial for large data set"
   ]
  },
  {
   "cell_type": "code",
   "execution_count": 7,
   "metadata": {},
   "outputs": [
    {
     "name": "stdout",
     "output_type": "stream",
     "text": [
      "Enter initial number of organism: 500\n",
      "Enter the rate of growth in hours (must be > 0): 2\n",
      "Enter the number of hours it takes to achieve this rate: 6\n",
      "Enter the total hours of population grows: 15\n",
      "Total population:  2500.0\n"
     ]
    }
   ],
   "source": [
    "#Problem 2\n",
    "\n",
    "#Input variables\n",
    "#initial number of organisms\n",
    "numOfOrganism = int (input(\"Enter initial number of organism: \"))\n",
    "\n",
    "#the rate of growth (in hours)\n",
    "rateOfGrowth = 0\n",
    "while rateOfGrowth <= 0:\n",
    "    rateOfGrowth = int (input(\"Enter the rate of growth in hours (must be > 0): \"))\n",
    "\n",
    "#the number of hours it takes to achieve this rate\n",
    "rateTime = int(input(\"Enter the number of hours it takes to achieve this rate: \"))\n",
    "\n",
    "#number of hours during which the population grows\n",
    "totalGrowthsHours = int (input(\"Enter the total hours of population grows: \"))\n",
    "\n",
    "#Calculate total population\n",
    "totalPopulation = numOfOrganism * rateOfGrowth * (totalGrowthsHours/rateTime)\n",
    "\n",
    "print(\"Total population: \", totalPopulation)\n"
   ]
  },
  {
   "cell_type": "code",
   "execution_count": 11,
   "metadata": {},
   "outputs": [],
   "source": [
    "#Problem 3\n",
    "\n",
    "#It does not reduce the computational complexity\n",
    "#let's say that the number of exponent is n\n",
    "#So, using the recursive method, it first need to go through the exponent\n",
    "#then once the exponent goes to 0, the actual calcuation start\n",
    "#The compuational complexity of the recursive method end up being n x n!\n",
    "#Since the regular exponent function have complexity of n!, \n",
    "#it shows that the recursive method is larger than the regular method"
   ]
  },
  {
   "cell_type": "code",
   "execution_count": null,
   "metadata": {
    "collapsed": true
   },
   "outputs": [],
   "source": [
    "#Problem 4\n",
    "#Assignment Problem\n",
    "\n",
    "#List of persons and jobs\n",
    "persons = [\"A\", \"B\", \"C\"]\n",
    "jobs = [\"job1\", \"job2\", \"job3\"]\n",
    "\n",
    "#Dictionary for cost of a person doing a job\n",
    "costs = {\n",
    "    (\"A\", \"job1\") : 5,\n",
    "    (\"A\", \"job2\") : 7,\n",
    "    (\"A\", \"job3\") : 4,\n",
    "    \n",
    "    (\"B\", \"job1\") : 3,\n",
    "    (\"B\", \"job2\") : 6,\n",
    "    (\"B\", \"job3\") : 5,\n",
    "    \n",
    "    \n",
    "    (\"C\", \"job1\") : 2,\n",
    "    (\"C\", \"job2\") : 3,\n",
    "    (\"C\", \"job3\") : 4\n",
    "}"
   ]
  }
 ],
 "metadata": {
  "kernelspec": {
   "display_name": "Python 3",
   "language": "python",
   "name": "python3"
  },
  "language_info": {
   "codemirror_mode": {
    "name": "ipython",
    "version": 3
   },
   "file_extension": ".py",
   "mimetype": "text/x-python",
   "name": "python",
   "nbconvert_exporter": "python",
   "pygments_lexer": "ipython3",
   "version": "3.6.1"
  }
 },
 "nbformat": 4,
 "nbformat_minor": 2
}
