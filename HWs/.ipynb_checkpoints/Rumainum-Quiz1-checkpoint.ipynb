{
 "cells": [
  {
   "cell_type": "code",
   "execution_count": 68,
   "metadata": {},
   "outputs": [
    {
     "name": "stdout",
     "output_type": "stream",
     "text": [
      "minAge:  18\n",
      "maxAge:  41\n",
      "aveAge:  24.14\n"
     ]
    }
   ],
   "source": [
    "#lince Rumainum\n",
    "#ISE 5123\n",
    "#Quiz 1\n",
    "\n",
    "#Read text file\n",
    "inputFile = open(\"age.txt\",'r')\n",
    "\n",
    "ageList =[]\n",
    "\n",
    "for i in inputFile:\n",
    "    ageList.append(i)\n",
    "\n",
    "for k in range(len(ageList)):\n",
    "    ageList[k] = (ageList[k].split(','))\n",
    "\n",
    "ageListInt =[]\n",
    "for m in range(len(ageList)):\n",
    "    for n in ageList[m]:\n",
    "        if (n != '\\n'):\n",
    "            ageListInt.append(int(n))\n",
    "  \n",
    "#print(ageListInt)\n",
    "\n",
    "minAge = int(ageListInt[0])\n",
    "maxAge = int(ageListInt[0])\n",
    "sumAge = 0\n",
    "\n",
    "for j in range(1, len(ageListInt)):\n",
    "    if int(ageListInt[j]) < minAge:\n",
    "        minAge = ageListInt[j]\n",
    "    if ageListInt[j] > maxAge:\n",
    "        maxAge = ageListInt[j]\n",
    "    sumAge +=  int(str(ageListInt[j]))\n",
    "    \n",
    "aveAge = sumAge/len(ageList)\n",
    "\n",
    "print (\"minAge: \", minAge)\n",
    "print (\"maxAge: \", maxAge)\n",
    "print (\"aveAge: \", round(aveAge,2))\n",
    "   "
   ]
  },
  {
   "cell_type": "code",
   "execution_count": null,
   "metadata": {
    "collapsed": true
   },
   "outputs": [],
   "source": []
  }
 ],
 "metadata": {
  "kernelspec": {
   "display_name": "Python 3",
   "language": "python",
   "name": "python3"
  },
  "language_info": {
   "codemirror_mode": {
    "name": "ipython",
    "version": 3
   },
   "file_extension": ".py",
   "mimetype": "text/x-python",
   "name": "python",
   "nbconvert_exporter": "python",
   "pygments_lexer": "ipython3",
   "version": "3.6.1"
  }
 },
 "nbformat": 4,
 "nbformat_minor": 2
}
