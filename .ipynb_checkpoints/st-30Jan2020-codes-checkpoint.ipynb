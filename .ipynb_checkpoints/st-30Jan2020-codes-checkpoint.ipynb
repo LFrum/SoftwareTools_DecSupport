{
 "cells": [
  {
   "cell_type": "code",
   "execution_count": 3,
   "metadata": {},
   "outputs": [
    {
     "name": "stdout",
     "output_type": "stream",
     "text": [
      "median:  6.0\n"
     ]
    }
   ],
   "source": [
    "import random\n",
    "\n",
    "# open text file and write 500 random numbers\n",
    "intFile = \"randomIntegers.txt\"\n",
    "with open(intFile,'w') as file:\n",
    "    for i in range (500):\n",
    "        randNum = random.randint(1,10)\n",
    "        file.write(str(randNum) + \"\\n\")\n",
    "\n",
    "# initialize list variable\n",
    "numbers = []\n",
    "\n",
    "# read text file\n",
    "with open(intFile,'r') as file:\n",
    "    for l in file:\n",
    "        l.split() # \n",
    "        # append each random numbers to the list\n",
    "        numbers.append(int(l)) \n",
    "\n",
    "# sort the numbers\n",
    "sortNum = numbers.sort()\n",
    "\n",
    "# remainder of the \n",
    "remainder = len(numbers) % 2\n",
    "# midpoint of the list\n",
    "midpoint = int (len(numbers)/2)\n",
    "\n",
    "# calculate the median\n",
    "if remainder == 1 :\n",
    "    median = numbers[midpoint]\n",
    "else:\n",
    "    \n",
    "    median = (numbers[midpoint-1]+numbers[midpoint]) / 2\n",
    "    \n",
    "print(\"median: \", median)\n",
    "\n"
   ]
  },
  {
   "cell_type": "code",
   "execution_count": 6,
   "metadata": {
    "collapsed": true
   },
   "outputs": [],
   "source": [
    "# creating dictionary\n",
    "info = {}\n",
    "info[\"Name\"] = \"Shima\"\n",
    "info[\"Profession\"] = \"Professor\""
   ]
  },
  {
   "cell_type": "code",
   "execution_count": 7,
   "metadata": {},
   "outputs": [
    {
     "data": {
      "text/plain": [
       "{'Name': 'Shima', 'Profession': 'Professor'}"
      ]
     },
     "execution_count": 7,
     "metadata": {},
     "output_type": "execute_result"
    }
   ],
   "source": [
    "info"
   ]
  },
  {
   "cell_type": "code",
   "execution_count": null,
   "metadata": {
    "collapsed": true
   },
   "outputs": [],
   "source": []
  }
 ],
 "metadata": {
  "kernelspec": {
   "display_name": "Python 3",
   "language": "python",
   "name": "python3"
  },
  "language_info": {
   "codemirror_mode": {
    "name": "ipython",
    "version": 3
   },
   "file_extension": ".py",
   "mimetype": "text/x-python",
   "name": "python",
   "nbconvert_exporter": "python",
   "pygments_lexer": "ipython3",
   "version": "3.6.1"
  }
 },
 "nbformat": 4,
 "nbformat_minor": 2
}
