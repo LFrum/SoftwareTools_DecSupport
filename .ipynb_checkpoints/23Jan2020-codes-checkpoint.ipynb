{
 "cells": [
  {
   "cell_type": "code",
   "execution_count": 1,
   "metadata": {},
   "outputs": [
    {
     "name": "stdout",
     "output_type": "stream",
     "text": [
      "Enter input 1: 51\n",
      "Enter input 2: 12\n",
      "\n",
      "Large number:  51\n",
      "Small number:  12\n",
      "Remainder:  3\n",
      "Large number:  12\n",
      "Small number:  3\n",
      "Remainder:  0\n"
     ]
    }
   ],
   "source": [
    "# 23 Jan 2020\n",
    "# Group Assignment 1\n",
    "# get input A and B\n",
    "numA = int(input(\"Enter input 1: \"))\n",
    "numB = int(input(\"Enter input 2: \"))\n",
    "print(\"\") # print whitespace\n",
    "\n",
    "# check which number is larger\n",
    "if numA > numB:\n",
    "    largeNum = numA\n",
    "    smallNum = numB\n",
    "else: \n",
    "    largeNum = numB\n",
    "    smallNum = numA\n",
    "    \n",
    "# find the greatest common divisor (GCD)\n",
    "while smallNum != 0:\n",
    "    # print current large and small numbers and its remainder\n",
    "    print(\"Large number: \", largeNum)\n",
    "    print(\"Small number: \", smallNum)\n",
    "    remainderNum = largeNum%smallNum\n",
    "    print(\"Remainder: \", remainderNum)\n",
    "    # print whitespace\n",
    "    print(\"\")\n",
    "    \n",
    "    # update: \n",
    "    # large number as small number\n",
    "    # small number as remainder\n",
    "    largeNum = smallNum\n",
    "    smallNum = remainderNum"
   ]
  },
  {
   "cell_type": "code",
   "execution_count": 2,
   "metadata": {},
   "outputs": [
    {
     "name": "stdout",
     "output_type": "stream",
     "text": [
      "Enter the smaller number: 3\n",
      "Enter the larger number: 16\n",
      "Enter your guess: 5\n",
      "Too small!\n",
      "Enter your guess: 13\n",
      "Too large!\n",
      "Enter your guess: 10\n",
      "Too small!\n",
      "Enter your guess: 12\n",
      "Congratulations! You've got it in 4 tries!\n"
     ]
    }
   ],
   "source": [
    "# 23 Jan 2020\n",
    "# Lecture 4\n",
    "import random\n",
    "\n",
    "smaller = int(input(\"Enter the smaller number: \"))\n",
    "larger = int(input(\"Enter the larger number: \"))\n",
    "myNumber= random.randint(smaller, larger)\n",
    "count = 0\n",
    "while True:\n",
    "    count += 1\n",
    "    userNumber= int(input(\"Enter your guess: \"))\n",
    "    if userNumber< myNumber:\n",
    "        print(\"Too small!\")\n",
    "    elif userNumber> myNumber:\n",
    "        print(\"Too large!\")\n",
    "    else:\n",
    "        print(\"Congratulations! You've got it in\", count,\"tries!\")\n",
    "        break"
   ]
  },
  {
   "cell_type": "code",
   "execution_count": 7,
   "metadata": {},
   "outputs": [
    {
     "name": "stdout",
     "output_type": "stream",
     "text": [
      "20\n",
      "[ 7.10267859  0.1858231   7.74085278  0.68745461  0.55130757  6.891695\n",
      "  2.04449789  6.87374632  5.90516057  3.20080914  1.64205877  9.80337672\n",
      "  9.58558959  5.56141128  4.73527559  6.06258689  0.20000988  6.62752415\n",
      "  1.0967148   4.71496537]\n"
     ]
    },
    {
     "data": {
      "image/png": "[encoded data removed]",
      "text/plain": [
       "<matplotlib.figure.Figure at 0x90e6b095f8>"
      ]
     },
     "metadata": {},
     "output_type": "display_data"
    }
   ],
   "source": [
    "import scipy.stats as stats \n",
    "uniform_data= stats.uniform.rvs(size=20, loc = 0, scale=10)\n",
    "print(len(uniform_data))\n",
    "print(uniform_data)\n",
    "import matplotlib.pyplot as plt\n",
    "plt.plot(uniform_data,'ro')\n",
    "plt.axis([0, 10, 0, 10])\n",
    "plt.show()"
   ]
  },
  {
   "cell_type": "code",
   "execution_count": 8,
   "metadata": {},
   "outputs": [
    {
     "name": "stdout",
     "output_type": "stream",
     "text": [
      "myfile.txt\n",
      "yourfile.txt\n"
     ]
    }
   ],
   "source": [
    "fileList= [\"myfile.txt\", \"myprogram.exe\", \"yourfile.txt\"]\n",
    "for l in fileList:\n",
    "    if \".txt\" in l:\n",
    "        print(l)"
   ]
  },
  {
   "cell_type": "code",
   "execution_count": 9,
   "metadata": {
    "collapsed": true
   },
   "outputs": [],
   "source": [
    "file = open(\"myfile.txt\", 'w')\n",
    "file.write(\"First line.\\nSecondline.\\n\")\n",
    "file.close()"
   ]
  },
  {
   "cell_type": "code",
   "execution_count": null,
   "metadata": {
    "collapsed": true
   },
   "outputs": [],
   "source": [
    "import random\n",
    "file = open (\"Integer.txt\", \"w\")\n",
    "\n",
    "for l in ranger(500):\n",
    "\n",
    "for l in range (500):\n",
    "    number = random.randint(1,10)\n",
    "    file.write(str(number), +\"\\n\")"
   ]
  }
 ],
 "metadata": {
  "kernelspec": {
   "display_name": "Python 3",
   "language": "python",
   "name": "python3"
  },
  "language_info": {
   "codemirror_mode": {
    "name": "ipython",
    "version": 3
   },
   "file_extension": ".py",
   "mimetype": "text/x-python",
   "name": "python",
   "nbconvert_exporter": "python",
   "pygments_lexer": "ipython3",
   "version": "3.6.1"
  }
 },
 "nbformat": 4,
 "nbformat_minor": 2
}
