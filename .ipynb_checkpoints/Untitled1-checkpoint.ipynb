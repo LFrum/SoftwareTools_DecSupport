{
 "cells": [
  {
   "cell_type": "code",
   "execution_count": 4,
   "metadata": {},
   "outputs": [
    {
     "name": "stdout",
     "output_type": "stream",
     "text": [
      "Enter input 1: 60\n",
      "Enter input 2: 13\n",
      "Large number:  60\n",
      "Small number:  13\n",
      "Remainder:  8\n",
      "Large number:  13\n",
      "Small number:  8\n",
      "Remainder:  5\n",
      "Large number:  8\n",
      "Small number:  5\n",
      "Remainder:  3\n",
      "Large number:  5\n",
      "Small number:  3\n",
      "Remainder:  2\n",
      "Large number:  3\n",
      "Small number:  2\n",
      "Remainder:  1\n",
      "Large number:  2\n",
      "Small number:  1\n",
      "Remainder:  0\n"
     ]
    }
   ],
   "source": [
    "# Group Assignment 1\n",
    "# get input A and B\n",
    "numA = int(input(\"Enter input 1: \"))\n",
    "numB = int(input(\"Enter input 2: \"))\n",
    "\n",
    "# check which number is larger\n",
    "if numA > numB:\n",
    "    largeNum = numA\n",
    "    smallNum = numB\n",
    "else: \n",
    "    largeNum = numB\n",
    "    smallNum = numA\n",
    "    \n",
    "# find the greatest common divisor (GCD)\n",
    "while smallNum != 0:\n",
    "    print(\"Large number: \", largeNum)\n",
    "    print(\"Small number: \", smallNum)\n",
    "    remainderNum = largeNum%smallNum\n",
    "    print(\"Remainder: \", remainderNum)\n",
    "    largeNum = smallNum\n",
    "    smallNum = remainderNum\n"
   ]
  },
  {
   "cell_type": "code",
   "execution_count": null,
   "metadata": {
    "collapsed": true
   },
   "outputs": [],
   "source": []
  }
 ],
 "metadata": {
  "kernelspec": {
   "display_name": "Python 3",
   "language": "python",
   "name": "python3"
  },
  "language_info": {
   "codemirror_mode": {
    "name": "ipython",
    "version": 3
   },
   "file_extension": ".py",
   "mimetype": "text/x-python",
   "name": "python",
   "nbconvert_exporter": "python",
   "pygments_lexer": "ipython3",
   "version": "3.6.1"
  }
 },
 "nbformat": 4,
 "nbformat_minor": 2
}
